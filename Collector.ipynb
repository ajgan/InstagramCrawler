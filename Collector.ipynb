{
 "cells": [
  {
   "cell_type": "code",
   "execution_count": 1,
   "metadata": {},
   "outputs": [
    {
     "data": {
      "text/plain": [
       "'Tue Mar 20 13:25:16 2018'"
      ]
     },
     "execution_count": 1,
     "metadata": {},
     "output_type": "execute_result"
    }
   ],
   "source": [
    "import instagramcrawler as igc\n",
    "from pathlib import Path\n",
    "import time\n",
    "time.ctime()"
   ]
  },
  {
   "cell_type": "code",
   "execution_count": null,
   "metadata": {},
   "outputs": [
    {
     "name": "stdout",
     "output_type": "stream",
     "text": [
      "dir_prefix: ./data/, query: kefera, crawl_type: following, number: 5, caption: False, authentication: auth.json\n",
      "\n",
      "dir_prefix: ./data/, query: psg, crawl_type: following, number: 5, caption: False, authentication: auth2.json\n",
      "\n",
      "dir_prefix: ./data/, query: astro_seal, crawl_type: following, number: 5, caption: False, authentication: auth3.json\n",
      "\n",
      "dir_prefix: ./data/, query: alok, crawl_type: following, number: 5, caption: False, authentication: auth4.json\n",
      "\n",
      "dir_prefix: ./data/, query: caldeiraodohuck, crawl_type: following, number: 5, caption: False, authentication: auth5.json\n",
      "\n",
      "dir_prefix: ./data/, query: cocielo, crawl_type: following, number: 5, caption: False, authentication: auth.json\n"
     ]
    }
   ],
   "source": [
    "username = 'lucianohuck'\n",
    "myList = []\n",
    "myList.append(username)\n",
    "target = username\n",
    "\n",
    "my_file = Path('data/%s/following.txt' % username)\n",
    "\n",
    "if (my_file.exists() == False):\n",
    "    %run -i instagramcrawler.py -q {username} -t 'following' -n 5  -a auth.json\n",
    "\n",
    "with open('data/%s/following.txt' % username) as f:\n",
    "    content = f.readlines()\n",
    "    \n",
    "for i in range(len(content)):\n",
    "    newUsername = (content[i].split(', ')[1].split(')')[0])\n",
    "    if (newUsername not in myList):\n",
    "        myList.append(newUsername)\n",
    "        my_NewFile = Path('data/%s/following.txt' % newUsername)\n",
    "        if (my_NewFile.exists() == False):\n",
    "            if(len(myList)%5 == 0):\n",
    "                %run -i instagramcrawler.py -q {newUsername} -t 'following' -n 5  -a auth.json\n",
    "            elif(len(myList)%5 == 1):\n",
    "                %run -i instagramcrawler.py -q {newUsername} -t 'following' -n 5  -a auth2.json\n",
    "            elif(len(myList)%5 == 2):\n",
    "                %run -i instagramcrawler.py -q {newUsername} -t 'following' -n 5  -a auth3.json\n",
    "            elif(len(myList)%5 == 3):\n",
    "                %run -i instagramcrawler.py -q {newUsername} -t 'following' -n 5  -a auth4.json    \n",
    "            else:\n",
    "                %run -i instagramcrawler.py -q {newUsername} -t 'following' -n 5  -a auth5.json\n",
    "        #with open('data/%s/following.txt' % newUsername) as f2:\n",
    "            #content2 = f2.readlines()\n",
    "        #for j in range(len(content2)):\n",
    "            #newUsername2 = (content2[j].split(', ')[1].split(')')[0])\n",
    "            #if (newUsername2 not in myList):\n",
    "                #myList.append(newUsername2)\n",
    "                #my_NewFile2 = Path('data/%s/following.txt' % newUsername2)\n",
    "                #if (my_NewFile2.exists() == False):\n",
    "                    #%run -i instagramcrawler.py -q {newUsername2} -t 'following' -n 5  -a auth.json"
   ]
  },
  {
   "cell_type": "code",
   "execution_count": 7,
   "metadata": {},
   "outputs": [
    {
     "ename": "NameError",
     "evalue": "name 'username' is not defined",
     "output_type": "error",
     "traceback": [
      "\u001b[0;31m---------------------------------------------------------------------------\u001b[0m",
      "\u001b[0;31mNameError\u001b[0m                                 Traceback (most recent call last)",
      "\u001b[0;32m<ipython-input-7-4d6a98abc945>\u001b[0m in \u001b[0;36m<module>\u001b[0;34m()\u001b[0m\n\u001b[1;32m      1\u001b[0m \u001b[0;31m#cria file, se não existir\u001b[0m\u001b[0;34m\u001b[0m\u001b[0;34m\u001b[0m\u001b[0m\n\u001b[1;32m      2\u001b[0m \u001b[0;32mtry\u001b[0m\u001b[0;34m:\u001b[0m\u001b[0;34m\u001b[0m\u001b[0m\n\u001b[0;32m----> 3\u001b[0;31m     \u001b[0mopen\u001b[0m\u001b[0;34m(\u001b[0m\u001b[0;34m'bigData/%s.txt'\u001b[0m\u001b[0;34m%\u001b[0m\u001b[0musername\u001b[0m\u001b[0;34m,\u001b[0m \u001b[0;34m'x'\u001b[0m\u001b[0;34m)\u001b[0m\u001b[0;34m\u001b[0m\u001b[0m\n\u001b[0m\u001b[1;32m      4\u001b[0m \u001b[0;32mexcept\u001b[0m \u001b[0mFileExistsError\u001b[0m\u001b[0;34m:\u001b[0m\u001b[0;34m\u001b[0m\u001b[0m\n\u001b[1;32m      5\u001b[0m     \u001b[0;32mpass\u001b[0m\u001b[0;34m\u001b[0m\u001b[0m\n",
      "\u001b[0;31mNameError\u001b[0m: name 'username' is not defined"
     ]
    }
   ],
   "source": [
    "#cria file, se não existir\n",
    "try:\n",
    "    open('bigData/%s.txt'%username, 'x')\n",
    "except FileExistsError:\n",
    "    pass\n",
    "#apaga tudo que tem na file\n",
    "open('bigData/%s.txt'%username, 'w').close()\n",
    "\n",
    "#escreve tudo que tem nas outras files em uma única file\n",
    "with open('bigData/%s.txt'%username, 'w') as outfile:\n",
    "    for fname in myList:\n",
    "        #cria file, se não existir\n",
    "        try:\n",
    "            open('data/%s/following.txt'%fname, 'x')\n",
    "        except FileExistsError:\n",
    "            pass\n",
    "        with open('data/%s/following.txt'%fname) as infile:\n",
    "            outfile.write(infile.read())\n",
    "#file bigData/r_carnero.txt contém todas as tuplas de relacionamento até o segundo nível do usuário r_canero"
   ]
  },
  {
   "cell_type": "code",
   "execution_count": null,
   "metadata": {
    "collapsed": true
   },
   "outputs": [],
   "source": []
  }
 ],
 "metadata": {
  "kernelspec": {
   "display_name": "Python 3",
   "language": "python",
   "name": "python3"
  },
  "language_info": {
   "codemirror_mode": {
    "name": "ipython",
    "version": 3
   },
   "file_extension": ".py",
   "mimetype": "text/x-python",
   "name": "python",
   "nbconvert_exporter": "python",
   "pygments_lexer": "ipython3",
   "version": "3.6.1"
  }
 },
 "nbformat": 4,
 "nbformat_minor": 2
}
