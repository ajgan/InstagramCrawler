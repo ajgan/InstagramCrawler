{
 "cells": [
  {
   "cell_type": "code",
   "execution_count": 2,
   "metadata": {
    "collapsed": true
   },
   "outputs": [],
   "source": [
    "import instagramcrawler as igc\n",
    "from pathlib import Path"
   ]
  },
  {
   "cell_type": "code",
   "execution_count": null,
   "metadata": {},
   "outputs": [
    {
     "name": "stdout",
     "output_type": "stream",
     "text": [
      "dir_prefix: ./data/, query: stefanogabbana, crawl_type: following, number: 5, caption: False, authentication: auth.json\n",
      "\n",
      "dir_prefix: ./data/, query: jojotodynho, crawl_type: following, number: 5, caption: False, authentication: auth.json\n",
      "\n"
     ]
    },
    {
     "ename": "KeyboardInterrupt",
     "evalue": "",
     "output_type": "error",
     "traceback": [
      "\u001b[0;31m---------------------------------------------------------------------------\u001b[0m",
      "\u001b[0;31mKeyboardInterrupt\u001b[0m                         Traceback (most recent call last)",
      "\u001b[0;32m/Users/ajgan/Desktop/Programas/Redes/InstagramCrawler/instagramcrawler.py\u001b[0m in \u001b[0;36m<module>\u001b[0;34m()\u001b[0m\n\u001b[1;32m    377\u001b[0m \u001b[0;34m\u001b[0m\u001b[0m\n\u001b[1;32m    378\u001b[0m \u001b[0;32mif\u001b[0m \u001b[0m__name__\u001b[0m \u001b[0;34m==\u001b[0m \u001b[0;34m\"__main__\"\u001b[0m\u001b[0;34m:\u001b[0m\u001b[0;34m\u001b[0m\u001b[0m\n\u001b[0;32m--> 379\u001b[0;31m     \u001b[0mmain\u001b[0m\u001b[0;34m(\u001b[0m\u001b[0;34m)\u001b[0m\u001b[0;34m\u001b[0m\u001b[0m\n\u001b[0m",
      "\u001b[0;32m/Users/ajgan/Desktop/Programas/Redes/InstagramCrawler/instagramcrawler.py\u001b[0m in \u001b[0;36mmain\u001b[0;34m()\u001b[0m\n\u001b[1;32m    373\u001b[0m                   \u001b[0mnumber\u001b[0m\u001b[0;34m=\u001b[0m\u001b[0margs\u001b[0m\u001b[0;34m.\u001b[0m\u001b[0mnumber\u001b[0m\u001b[0;34m,\u001b[0m\u001b[0;34m\u001b[0m\u001b[0m\n\u001b[1;32m    374\u001b[0m                   \u001b[0mcaption\u001b[0m\u001b[0;34m=\u001b[0m\u001b[0margs\u001b[0m\u001b[0;34m.\u001b[0m\u001b[0mcaption\u001b[0m\u001b[0;34m,\u001b[0m\u001b[0;34m\u001b[0m\u001b[0m\n\u001b[0;32m--> 375\u001b[0;31m                   authentication=args.authentication)\n\u001b[0m\u001b[1;32m    376\u001b[0m \u001b[0;34m\u001b[0m\u001b[0m\n\u001b[1;32m    377\u001b[0m \u001b[0;34m\u001b[0m\u001b[0m\n",
      "\u001b[0;32m/Users/ajgan/Desktop/Programas/Redes/InstagramCrawler/instagramcrawler.py\u001b[0m in \u001b[0;36mcrawl\u001b[0;34m(self, dir_prefix, query, crawl_type, number, caption, authentication)\u001b[0m\n\u001b[1;32m    133\u001b[0m             \u001b[0mself\u001b[0m\u001b[0;34m.\u001b[0m\u001b[0mbrowse_target_page\u001b[0m\u001b[0;34m(\u001b[0m\u001b[0mquery\u001b[0m\u001b[0;34m)\u001b[0m\u001b[0;34m\u001b[0m\u001b[0m\n\u001b[1;32m    134\u001b[0m             \u001b[0;31m# Scrape captions\u001b[0m\u001b[0;34m\u001b[0m\u001b[0;34m\u001b[0m\u001b[0m\n\u001b[0;32m--> 135\u001b[0;31m             \u001b[0mself\u001b[0m\u001b[0;34m.\u001b[0m\u001b[0mscrape_followers_or_following\u001b[0m\u001b[0;34m(\u001b[0m\u001b[0mcrawl_type\u001b[0m\u001b[0;34m,\u001b[0m \u001b[0mquery\u001b[0m\u001b[0;34m,\u001b[0m \u001b[0mnumber\u001b[0m\u001b[0;34m)\u001b[0m\u001b[0;34m\u001b[0m\u001b[0m\n\u001b[0m\u001b[1;32m    136\u001b[0m         \u001b[0;32melse\u001b[0m\u001b[0;34m:\u001b[0m\u001b[0;34m\u001b[0m\u001b[0m\n\u001b[1;32m    137\u001b[0m             \u001b[0mprint\u001b[0m\u001b[0;34m(\u001b[0m\u001b[0;34m\"Unknown crawl type: {}\"\u001b[0m\u001b[0;34m.\u001b[0m\u001b[0mformat\u001b[0m\u001b[0;34m(\u001b[0m\u001b[0mcrawl_type\u001b[0m\u001b[0;34m)\u001b[0m\u001b[0;34m)\u001b[0m\u001b[0;34m\u001b[0m\u001b[0m\n",
      "\u001b[0;32m/Users/ajgan/Desktop/Programas/Redes/InstagramCrawler/instagramcrawler.py\u001b[0m in \u001b[0;36mscrape_followers_or_following\u001b[0;34m(self, crawl_type, query, number)\u001b[0m\n\u001b[1;32m    288\u001b[0m         \u001b[0;32mfor\u001b[0m \u001b[0mi\u001b[0m \u001b[0;32min\u001b[0m \u001b[0mrange\u001b[0m\u001b[0;34m(\u001b[0m\u001b[0;36m0\u001b[0m\u001b[0;34m,\u001b[0m \u001b[0mnumberSpaces\u001b[0m\u001b[0;34m)\u001b[0m\u001b[0;34m:\u001b[0m\u001b[0;34m\u001b[0m\u001b[0m\n\u001b[1;32m    289\u001b[0m             \u001b[0mactions\u001b[0m\u001b[0;34m.\u001b[0m\u001b[0msend_keys\u001b[0m\u001b[0;34m(\u001b[0m\u001b[0mKeys\u001b[0m\u001b[0;34m.\u001b[0m\u001b[0mSPACE\u001b[0m\u001b[0;34m)\u001b[0m\u001b[0;34m.\u001b[0m\u001b[0mperform\u001b[0m\u001b[0;34m(\u001b[0m\u001b[0;34m)\u001b[0m\u001b[0;34m\u001b[0m\u001b[0m\n\u001b[0;32m--> 290\u001b[0;31m             \u001b[0mtime\u001b[0m\u001b[0;34m.\u001b[0m\u001b[0msleep\u001b[0m\u001b[0;34m(\u001b[0m\u001b[0;36m0.6\u001b[0m\u001b[0;34m)\u001b[0m\u001b[0;34m\u001b[0m\u001b[0m\n\u001b[0m\u001b[1;32m    291\u001b[0m \u001b[0;34m\u001b[0m\u001b[0m\n\u001b[1;32m    292\u001b[0m         \u001b[0melement\u001b[0m \u001b[0;34m=\u001b[0m \u001b[0mList\u001b[0m\u001b[0;34m.\u001b[0m\u001b[0mfind_elements_by_xpath\u001b[0m\u001b[0;34m(\u001b[0m\u001b[0;34m'*'\u001b[0m\u001b[0;34m)\u001b[0m\u001b[0;34m[\u001b[0m\u001b[0;34m-\u001b[0m\u001b[0;36m1\u001b[0m\u001b[0;34m]\u001b[0m\u001b[0;34m.\u001b[0m\u001b[0mtext\u001b[0m\u001b[0;34m.\u001b[0m\u001b[0msplit\u001b[0m\u001b[0;34m(\u001b[0m\u001b[0;34m'\\n'\u001b[0m\u001b[0;34m)\u001b[0m\u001b[0;34m\u001b[0m\u001b[0m\n",
      "\u001b[0;31mKeyboardInterrupt\u001b[0m: "
     ]
    }
   ],
   "source": [
    "username = 'lucianohuck'\n",
    "myList = []\n",
    "myList.append(username)\n",
    "target = username\n",
    "\n",
    "my_file = Path('data/%s/following.txt' % username)\n",
    "\n",
    "if (my_file.exists() == False):\n",
    "    %run -i instagramcrawler.py -q {username} -t 'following' -n 5  -a auth.json\n",
    "\n",
    "with open('data/%s/following.txt' % username) as f:\n",
    "    content = f.readlines()\n",
    "    \n",
    "for i in range(len(content)):\n",
    "    newUsername = (content[i].split(', ')[1].split(')')[0])\n",
    "    if (newUsername not in myList):\n",
    "        myList.append(newUsername)\n",
    "        my_NewFile = Path('data/%s/following.txt' % newUsername)\n",
    "        if (my_NewFile.exists() == False):\n",
    "            %run -i instagramcrawler.py -q {newUsername} -t 'following' -n 5  -a auth.json\n",
    "        #with open('data/%s/following.txt' % newUsername) as f2:\n",
    "            #content2 = f2.readlines()\n",
    "        #for j in range(len(content2)):\n",
    "            #newUsername2 = (content2[j].split(', ')[1].split(')')[0])\n",
    "            #if (newUsername2 not in myList):\n",
    "                #myList.append(newUsername2)\n",
    "                #my_NewFile2 = Path('data/%s/following.txt' % newUsername2)\n",
    "                #if (my_NewFile2.exists() == False):\n",
    "                    #%run -i instagramcrawler.py -q {newUsername2} -t 'following' -n 5  -a auth.json"
   ]
  },
  {
   "cell_type": "code",
   "execution_count": 120,
   "metadata": {
    "collapsed": true
   },
   "outputs": [],
   "source": [
    "#cria file, se não existir\n",
    "try:\n",
    "    open('bigData/%s.txt'%username, 'x')\n",
    "except FileExistsError:\n",
    "    pass\n",
    "#apaga tudo que tem na file\n",
    "open('bigData/%s.txt'%username, 'w').close()\n",
    "\n",
    "#escreve tudo que tem nas outras files em uma única file\n",
    "with open('bigData/%s.txt'%username, 'w') as outfile:\n",
    "    for fname in myList:\n",
    "        #cria file, se não existir\n",
    "        try:\n",
    "            open('data/%s/following.txt'%fname, 'x')\n",
    "        except FileExistsError:\n",
    "            pass\n",
    "        with open('data/%s/following.txt'%fname) as infile:\n",
    "            outfile.write(infile.read())\n",
    "#file bigData/r_carnero.txt contém todas as tuplas de relacionamento até o segundo nível do usuário r_canero"
   ]
  },
  {
   "cell_type": "code",
   "execution_count": null,
   "metadata": {
    "collapsed": true
   },
   "outputs": [],
   "source": []
  }
 ],
 "metadata": {
  "kernelspec": {
   "display_name": "Python 3",
   "language": "python",
   "name": "python3"
  },
  "language_info": {
   "codemirror_mode": {
    "name": "ipython",
    "version": 3
   },
   "file_extension": ".py",
   "mimetype": "text/x-python",
   "name": "python",
   "nbconvert_exporter": "python",
   "pygments_lexer": "ipython3",
   "version": "3.6.1"
  }
 },
 "nbformat": 4,
 "nbformat_minor": 2
}
